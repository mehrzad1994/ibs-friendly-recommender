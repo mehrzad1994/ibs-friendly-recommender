{
 "cells": [
  {
   "cell_type": "code",
   "execution_count": 1,
   "id": "a288b8f6",
   "metadata": {},
   "outputs": [],
   "source": [
    "# search on recipe dataset based on the food categories"
   ]
  },
  {
   "cell_type": "code",
   "execution_count": 44,
   "id": "2f988be1",
   "metadata": {},
   "outputs": [],
   "source": [
    "#import libraries\n",
    "from pydantic import BaseModel, conlist, Field, ValidationError\n",
    "from typing import Dict, List\n",
    "import json\n",
    "\n",
    "import numpy as np\n",
    "import pandas as pd\n",
    "\n",
    "import ast\n"
   ]
  },
  {
   "cell_type": "code",
   "execution_count": 45,
   "id": "f7710205",
   "metadata": {},
   "outputs": [],
   "source": [
    "import sys\n",
    "# Add the directory containing the modules\n",
    "sys.path.append('../modules')  \n",
    "\n",
    "#import classes from other files\n",
    "from foodCategories import FoodCategory, FoodApproval, FoodApprovalManager\n"
   ]
  },
  {
   "cell_type": "code",
   "execution_count": 46,
   "id": "566e4984",
   "metadata": {},
   "outputs": [],
   "source": [
    "# Initialize from default JSON\n",
    "manager = FoodApprovalManager.from_json_file(\"../dataset/raw/food_approval.json\")\n"
   ]
  },
  {
   "cell_type": "code",
   "execution_count": 47,
   "id": "0f9943ab",
   "metadata": {},
   "outputs": [],
   "source": [
    "#load the preprocessed dataset\n",
    "recipe_data= pd.read_csv(\"../dataset/processed/preprocessed_ingredients_recipes.csv\")\n",
    "#convert dataset to a dataframe\n",
    "recipe_df=pd.DataFrame(recipe_data);\n"
   ]
  },
  {
   "cell_type": "code",
   "execution_count": 48,
   "id": "ca32b5c5",
   "metadata": {},
   "outputs": [],
   "source": [
    "#Convert the string representation of the list back to a list\n",
    "recipe_df['Ingredients_Parsed'] = recipe_df['Ingredients_Parsed'].apply(ast.literal_eval)\n",
    "\n",
    "#recipe_df['Ingredients_Parsed']\n",
    "#recipe_df['Ingredients_Parsed'][0]"
   ]
  },
  {
   "cell_type": "code",
   "execution_count": 49,
   "id": "fb29ae85",
   "metadata": {},
   "outputs": [
    {
     "name": "stdout",
     "output_type": "stream",
     "text": [
      "what kind of food are you looking for? soup\n",
      "soup\n",
      "                                           Title  \\\n",
      "12               butternut squash and apple soup   \n",
      "27                    spicy coconut pumpkin soup   \n",
      "50     summer bean soup with tomato brown butter   \n",
      "326        chicken-lentil soup with jammy onions   \n",
      "363                           chicken peppersoup   \n",
      "...                                          ...   \n",
      "13374            butternut squash and apple soup   \n",
      "13386        pasta and cauliflower soup federica   \n",
      "13393           thai-style chicken and rice soup   \n",
      "13468       black bean soup with chipotle chiles   \n",
      "13470                          cold avocado soup   \n",
      "\n",
      "                                      Ingredients_Parsed  \\\n",
      "12     [celery, potato, granny smith apple, butternut...   \n",
      "27     [coconut, calabaza, aji dulce, sugar, coconut ...   \n",
      "50     [flageolet shelling bean, kombu, tomato, celer...   \n",
      "326                             [chicken, lemon, yogurt]   \n",
      "363    [allspice berry, ginger, sichuan, tamarind pul...   \n",
      "...                                                  ...   \n",
      "13374    [butter, butternut, broth, apple, cream, chive]   \n",
      "13386  [chicken stock, cauliflower, pecorino parmigia...   \n",
      "13393  [chicken stock chicken broth, curry, jasmine r...   \n",
      "13468  [bean, chipotle, lime, pepper, nonfat yogurt, ...   \n",
      "13470         [chicken broth, milk, pepper, cream chive]   \n",
      "\n",
      "                                     Cleaned_Ingredients  \\\n",
      "12     ['6 slices bacon, cut crosswise into ½-inch pi...   \n",
      "27     ['2 tablespoons coconut oil', '1 pound calabaz...   \n",
      "50     ['8 oz. (230 g) dried beans, such as flageolet...   \n",
      "326    ['4 skin-on, bone-in chicken thighs, patted dr...   \n",
      "363    ['1 tablespoon anise seeds', '1 tablespoon cor...   \n",
      "...                                                  ...   \n",
      "13374  ['2 tablespoons (1/4 stick) butter', '1 large ...   \n",
      "13386  ['2 quarts chicken stock (page 303; not canned...   \n",
      "13393  ['8 cups chicken stock or low-sodium chicken b...   \n",
      "13468  ['1 tablespoon olive oil', '2 medium-size red ...   \n",
      "13470  ['4 medium avocados, pitted, quartered, peeled...   \n",
      "\n",
      "                                            Instructions  \n",
      "12     Cook bacon in a 6-quart heavy pot over medium ...  \n",
      "27     Heat the coconut oil in a large saucepan over ...  \n",
      "50     Combine the dried beans and kombu in a large c...  \n",
      "326    Lightly season chicken thighs all over with sa...  \n",
      "363    Mix all the ingredients together in a bowl. Pl...  \n",
      "...                                                  ...  \n",
      "13374  Melt butter in large pot over medium-high heat...  \n",
      "13386  Bring stock to a boil in a 4- to 5-quart heavy...  \n",
      "13393  Combine stock, water, curry paste, garlic, gin...  \n",
      "13468  Heat olive oil in large nonstick skillet over ...  \n",
      "13470  Working in batches, blend avocados, chicken br...  \n",
      "\n",
      "[336 rows x 4 columns]\n"
     ]
    }
   ],
   "source": [
    "#search for a special kind of food, based on the title\n",
    "recipe_title = input(\"what kind of food are you looking for? \")\n",
    "print(recipe_title)\n",
    "\n",
    "#search for any row in dataframe contain user's desired food in the title\n",
    "recipe_result_title=recipe_df[recipe_df['Title'].str.contains(recipe_title)]\n",
    "print(recipe_result_title)\n"
   ]
  },
  {
   "cell_type": "code",
   "execution_count": 50,
   "id": "40bf3970",
   "metadata": {},
   "outputs": [
    {
     "name": "stdout",
     "output_type": "stream",
     "text": [
      "warning! This recipe contains avoided food\n",
      "['yogurt']\n",
      "relax! This recipe contain approved food\n",
      "['celery', 'coconut', 'sugar', 'coconut milk', 'pepper', 'tomato', 'maple syrup', 'pepper', 'bacon', 'pepper', 'ginger']\n",
      "be careful! This recipe contain food that are not mentioned in your food list\n",
      "['potato', 'granny smith apple', 'butternut', 'chicken stock broth', 'cream', 'calabaza', 'aji dulce', 'chicken broth broth', 'flageolet shelling bean', 'kombu', 'celery rib', 'carrot', 'anchovy', 'bean', 'lemon', 'pickled bean wet', 'tomato butter', 'feta', 'marjoram', 'chicken', 'lemon', 'allspice berry', 'sichuan', 'tamarind pulp', 'squeezed lemon', 'bird', 'chicken stock', 'pepper soup mixture', 'shrimp']\n"
     ]
    }
   ],
   "source": [
    "#check the ingrediants in approved and avoided food lists\n",
    "avoided_list=[]\n",
    "approved_list=[]\n",
    "not_mentioned_list=[]\n",
    "\n",
    "recipe_result_title=recipe_result_title[:5]\n",
    "\n",
    "# Iterate over rows\n",
    "for index, row in recipe_result_title.iterrows():\n",
    "    #print(f\"Row {index}:\")\n",
    "    for ingrediant in row['Ingredients_Parsed']:\n",
    "        #print (ingrediant)\n",
    "        ingrediant_approval=manager.search_food_int(ingrediant)\n",
    "        if ingrediant_approval==-1:\n",
    "            avoided_list.append(ingrediant)\n",
    "        elif ingrediant_approval==1:\n",
    "            approved_list.append(ingrediant)\n",
    "        elif ingrediant_approval==0:\n",
    "            not_mentioned_list.append(ingrediant)\n",
    "\n",
    "#print out the result of avoided, approved and not mentioned lists            \n",
    "if avoided_list:\n",
    "    print(\"warning! This recipe contains avoided food\")\n",
    "    print(avoided_list)\n",
    "if approved_list:\n",
    "    print(\"relax! This recipe contain approved food\")\n",
    "    print(approved_list)\n",
    "if not_mentioned_list:\n",
    "    print(\"be careful! This recipe contain food that are not mentioned in your food list\")\n",
    "    print(not_mentioned_list)        \n"
   ]
  },
  {
   "cell_type": "code",
   "execution_count": null,
   "id": "f692c7ad",
   "metadata": {},
   "outputs": [],
   "source": []
  },
  {
   "cell_type": "code",
   "execution_count": 51,
   "id": "9eb13c2f",
   "metadata": {},
   "outputs": [
    {
     "name": "stdout",
     "output_type": "stream",
     "text": [
      "what kind of ingrediants are you looking for in the recipe? lamb\n",
      "lamb\n",
      "                                                   Title  \\\n",
      "8                                instant pot lamb haleem   \n",
      "58                     spiced lamb and dill yogurt pasta   \n",
      "100    stuffed eggplants and zucchini in a rich tomat...   \n",
      "299        goat birria tacos with cucumber pico de gallo   \n",
      "378                      lamb and green squash dumplings   \n",
      "...                                                  ...   \n",
      "13286  herbed rack of lamb with parsley, mint, and wa...   \n",
      "13365               roast leg of lamb with fennel butter   \n",
      "13435                       spicy lamb and chorizo chili   \n",
      "13436                                     shepherd's pie   \n",
      "13446                                braised beef cheeks   \n",
      "\n",
      "                                      Ingredients_Parsed  \\\n",
      "8      [dal chana moong masoor urad, jasmine rice ric...   \n",
      "58     [egg yolk, kefir milk yogurt, frond, butter, s...   \n",
      "100    [tomato puree, tomato, chicken stock, sugar, p...   \n",
      "299    [goat untrimmed, diamond crystal morton, guaji...   \n",
      "378    [sichuan, lamb, wine, ginger, soy, panfried du...   \n",
      "...                                                  ...   \n",
      "13286  [rack frenched, shallot, lemon, walnut, walnut...   \n",
      "13365  [plastic mallet, soy, pepper, well, wine, chic...   \n",
      "13435  [chicken broth, ancho chilies, pepper, roll be...   \n",
      "13436  [pearl onion, leek, lamb, pepper, flour, wine,...   \n",
      "13446  [beef, celery, cocoa, wine lambrusco, tomato, ...   \n",
      "\n",
      "                                     Cleaned_Ingredients  \\\n",
      "8      ['¾ cup assorted dals (such as chana dal, moon...   \n",
      "58     ['3 large egg yolks', '2 cups kefir (cultured ...   \n",
      "100    ['2½ tbsp olive oil', '2 onions, finely diced ...   \n",
      "299    ['1 (7–10-lb.) bone-in leg of goat or lamb, un...   \n",
      "378    ['2 tablespoons sichuan peppercorns, toasted',...   \n",
      "...                                                  ...   \n",
      "13286  ['3 1 1/4-pound racks of lamb, frenched', '5 t...   \n",
      "13365  ['6 tablespoons (3/4 stick) butter, room tempe...   \n",
      "13435  ['2 1/4 cups canned low-salt chicken broth', '...   \n",
      "13436  ['10 oz pearl onions', '4 medium leeks (white ...   \n",
      "13446  ['4 tablespoons extra-virgin olive oil', '4 (1...   \n",
      "\n",
      "                                            Instructions  \n",
      "8      Combine dals, rice, and barley in a medium bow...  \n",
      "58     Combine egg yolks, kefir, and 1½ cups dill in ...  \n",
      "100    To make the sauce, put the oil into a saucepan...  \n",
      "299    Rub goat leg with ⅓ cup Diamond Crystal or 3 T...  \n",
      "378    In a small bowl, soak the peppercorns in ⅓ cup...  \n",
      "...                                                  ...  \n",
      "13286  Place lamb racks on heavy large rimmed baking ...  \n",
      "13365  Mix all ingredients with fork in medium bowl. ...  \n",
      "13435  Combine first 3 ingredients in heavy medium sa...  \n",
      "13436  Blanch onions in a 2- to 3-quart pot of boilin...  \n",
      "13446  Heat 2 tablespoons oil in an ovenproof 6-quart...  \n",
      "\n",
      "[253 rows x 4 columns]\n"
     ]
    }
   ],
   "source": [
    "#search for a special ingrediant, based on the ingrediants\n",
    "recipe_ingrediants = input(\"what kind of ingrediants are you looking for in the recipe? \")\n",
    "print(recipe_ingrediants)\n",
    "\n",
    "#search for any row in dataframe contain user's desired ingrediants in Cleaned_Ingredients\n",
    "recipe_result_ingrediants=recipe_df[recipe_df['Cleaned_Ingredients'].str.contains(recipe_ingrediants)]\n",
    "print(recipe_result_ingrediants)\n",
    "\n"
   ]
  },
  {
   "cell_type": "code",
   "execution_count": null,
   "id": "9de9f0f9",
   "metadata": {},
   "outputs": [],
   "source": []
  },
  {
   "cell_type": "code",
   "execution_count": null,
   "id": "69ad4cad",
   "metadata": {},
   "outputs": [],
   "source": []
  },
  {
   "cell_type": "code",
   "execution_count": null,
   "id": "25af4b47",
   "metadata": {},
   "outputs": [],
   "source": []
  },
  {
   "cell_type": "code",
   "execution_count": null,
   "id": "1fb775bd",
   "metadata": {},
   "outputs": [],
   "source": []
  },
  {
   "cell_type": "code",
   "execution_count": null,
   "id": "c20fe908",
   "metadata": {},
   "outputs": [],
   "source": []
  },
  {
   "cell_type": "code",
   "execution_count": null,
   "id": "813eeda2",
   "metadata": {},
   "outputs": [],
   "source": []
  },
  {
   "cell_type": "code",
   "execution_count": null,
   "id": "e98a997f",
   "metadata": {},
   "outputs": [],
   "source": []
  },
  {
   "cell_type": "code",
   "execution_count": null,
   "id": "e0b0c511",
   "metadata": {},
   "outputs": [],
   "source": []
  },
  {
   "cell_type": "code",
   "execution_count": null,
   "id": "76c87197",
   "metadata": {},
   "outputs": [],
   "source": []
  },
  {
   "cell_type": "code",
   "execution_count": null,
   "id": "c6dfd160",
   "metadata": {},
   "outputs": [],
   "source": []
  },
  {
   "cell_type": "code",
   "execution_count": null,
   "id": "66d67562",
   "metadata": {},
   "outputs": [],
   "source": []
  },
  {
   "cell_type": "code",
   "execution_count": null,
   "id": "5946e9ec",
   "metadata": {},
   "outputs": [],
   "source": []
  },
  {
   "cell_type": "code",
   "execution_count": null,
   "id": "6777b718",
   "metadata": {},
   "outputs": [],
   "source": []
  },
  {
   "cell_type": "code",
   "execution_count": null,
   "id": "5fc28c08",
   "metadata": {},
   "outputs": [],
   "source": []
  },
  {
   "cell_type": "code",
   "execution_count": null,
   "id": "9f6cb4d0",
   "metadata": {},
   "outputs": [],
   "source": []
  },
  {
   "cell_type": "code",
   "execution_count": null,
   "id": "d72a56f0",
   "metadata": {},
   "outputs": [],
   "source": []
  },
  {
   "cell_type": "code",
   "execution_count": null,
   "id": "1981bfcb",
   "metadata": {},
   "outputs": [],
   "source": []
  },
  {
   "cell_type": "code",
   "execution_count": null,
   "id": "d980da20",
   "metadata": {},
   "outputs": [],
   "source": []
  },
  {
   "cell_type": "code",
   "execution_count": null,
   "id": "1eec1456",
   "metadata": {},
   "outputs": [],
   "source": []
  },
  {
   "cell_type": "code",
   "execution_count": null,
   "id": "8bc05aff",
   "metadata": {},
   "outputs": [],
   "source": []
  }
 ],
 "metadata": {
  "kernelspec": {
   "display_name": "Python 3 (ipykernel)",
   "language": "python",
   "name": "python3"
  },
  "language_info": {
   "codemirror_mode": {
    "name": "ipython",
    "version": 3
   },
   "file_extension": ".py",
   "mimetype": "text/x-python",
   "name": "python",
   "nbconvert_exporter": "python",
   "pygments_lexer": "ipython3",
   "version": "3.9.7"
  }
 },
 "nbformat": 4,
 "nbformat_minor": 5
}
