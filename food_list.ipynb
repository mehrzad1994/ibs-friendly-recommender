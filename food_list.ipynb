#list of approved food and food to avoid
#default list, every user would be able to make changes according to their own symptoms and preferences
#based on low fermentation eating suggested for people suffering from SIBO, IBS or gut health
#https://goodlfe.com/en-ca



from pydantic import BaseModel, conlist
from typing import Dict, List

class FoodCategory(BaseModel):
    fruit: conlist(str, min_items=0)
    vegetable: conlist(str, min_items=0)
    protein: conlist(str, min_items=0)
    carbohydrates: conlist(str, min_items=0)
    dairy: conlist(str, min_items=0)
    nuts_and_seeds: conlist(str, min_items=0)
    beverages: conlist(str, min_items=0)
    alcohol: conlist(str, min_items=0)
    condiment: conlist(str, min_items=0)
    sweets: conlist(str, min_items=0)
    herbs_and_spices: conlist(str, min_items=0)
    legums: conlist(str, min_items=0)  

class FoodApproval(BaseModel):
    approved_food: FoodCategory
    avoided_food: FoodCategory

approved_food = FoodCategory(
    fruit=[
        'Apricots', 'Avocado', 'Blackberries', 'Blueberries', 'Boysenberries', 'Cantaloupe',
        'Cherries', 'Cranberries', 'Dragon fruit', 'Grapefruit', 'Grapes', 'Guava', 'Honeydew',
        'Kiwi', 'Lemons', 'Limes', 'Mango', 'Nectarine', 'Okra', 'Oranges', 'Papaya',
        'Passion fruit', 'Peaches', 'Persimmon', 'Pineapple', 'Plum', 'Pomegranate', 'Raspberries',
        'Strawberries', 'Tamarillo', 'Tangerines', 'Watermelon'
    ],
    vegetable=[
        'Arrow root', 'Beets', 'Capers', 'Caper berries', 'Carrots', 'Celeriac', 'Celery', 'Chives',
        'Corn', 'Cucumbers', 'Eggplant', 'Endive', 'English peas', 'Fennel', 'Garlic', 'Green beans',
        'Greens', 'Horseradish', 'Jicama', 'Leek', 'Mushrooms', 'Olives', 'Onion', 'Parsnips', 'Peas',
        'Bell pepper', 'Chili pepper', 'Potatoes', 'Pumpkin', 'Radicchio', 'Rhubarb', 'Rutabaga',
        'Scallion', 'Seaweed', 'Shallot', 'Squash', 'Sweet Potato', 'Swiss chard', 'Tomatillo',
        'Tomato', 'Turnips', 'Water chestnut', 'Yam', 'Yucca', 'Zucchini'
    ],
    protein=[
        'Bacon', 'Beef', 'Eggs', 'Fish', 'Game', 'Lamb', 'Organ meats', 'Pork', 'Poultry', 'Seafood',
        'Seitan'
    ],
    carbohydrates=[
        'Bagel', 'Bread crumbs', 'Bread French', 'Bread Italian', 'Bread potato',
        'Bread refined white or wheat', 'Bread rye', 'Cereals refined', 'Cornmeal', 'Cornstarch',
        'Couscous', 'Crackers refined', 'Cream of wheat', 'Dumpling wrappers', 'Gnocchi', 'Noodles egg',
        'Noodles udon', 'Orzo', 'Panko', 'Pasta', 'Phyllo dough', 'Polenta', 'Popchips', 'Popcorn',
        'Potato flour', 'Quinoa', 'Rice', 'Rice cakes', 'Rye flour', 'Seitan', 'Sourdough bread',
        'Tortillas', 'Tortilla chips'
    ],
    dairy=[
        'Butter', 'Cheese aged', 'Cheese hard varieties', 'Parmesan Cheese', 'Cheddar Cheese',
        'Manchego Cheese', 'Asiago cheese', 'Gruyère cheese', 'Dairy-alternative milk', 'almond milk',
        'rice milk', 'coconut milk', 'oat milk', 'hemp milks', 'Ghee', 'Lactaid Milk',
        'Lactose-free cottage cheese', 'Lactose-free milk'
    ],
    nuts_and_seeds=[
        'Almonds', 'Cashews', 'Chestnuts', 'Coconut', 'Hazelnuts', 'Hemp seeds', 'Macadamia nuts',
        'Nut butters', 'Peanuts', 'Pecans', 'Pine nuts', 'Pistachios', 'Pumpkin seeds',
        'Sesame seeds', 'Sunflower seeds', 'Walnuts'
    ],
    beverages=[
        'Broth', 'Coffee', 'Juice of approved fruits and vegetables', 'Seltzer/carbonated beverages (without HFCS)',
        'Teas', 'Water'
    ],
    alcohol=[
        'Beer', 'Bourbon', 'Brandy', 'Champagne', 'Gin', 'Grappa', 'Port', 'Rum', 'Sake', 'Sherry',
        'Tequila', 'Vermouth', 'Vodka', 'Whiskey', 'scotch', 'Wine'
    ],
    condiment=[
        'Avocado oil', 'Barbeque sauce w/o HFCS', 'Canola oil', 'Chili paste', 'Coconut aminos',
        'Coconut oil', 'Cornichons', 'Fish sauce', 'Ginger', 'pickled', 'Gochujang', 'Grapeseed oil',
        'Jam', 'Ketchup w/o HFCS', 'Kuzu', 'Mayonnaise', 'Mustard', 'Olive oil', 'Sesame oil',
        'Soy sauce', 'Sriracha', 'Sunflower oil', 'Tomato and pasta sauce', 'Tomato paste',
        'Vegetable oil', 'Vinegar', 'Worcestershire sauce'
    ],
    sweets=[
        'Active dry yeast', 'Agar flakes', 'All-purpose flour', 'Almond flour', 'Aspartame',
        'Baking powder', 'Baking soda', 'Cassava flour', 'bittersweet Chocolate', 'dark Chocolate',
        'semisweet Chocolate', 'Cocoa powder', 'instant Coffee', 'espresso granules', 'Corn flour',
        'Cream of tartar', 'Equal Sugar Substitute', 'Honey', 'Maple syrup', 'Orange blossom water',
        'Pomegranate molasses', 'Sorbet', 'Sugar', 'Vanilla extract', 'Vanilla powder'
    ],
    herbs_and_spices=[
        'Basil', 'Bay leaf', 'Cardamom', 'Cayenne', 'Chamomile', 'Chervil', 'Chili flakes',
        'Chili powder', 'Chives', 'Cilantro', 'Cinnamon', 'Cumin', 'Curry powder', 'Dill',
        'Everything spice', 'Fennel seed', 'Ginger', 'Garlic powder', 'Herbs de Provence', 'Hibiscus',
        'Kaffir lime', 'Lemon verbena', 'Lemongrass', 'Mint', 'dried Mustard', 'Nettle',
        'Nutritional yeast', 'Onion powder', 'Oregano', 'Paprika', 'Parsley', 'Pepper',
        'Poultry seasoning', 'Rosemary', 'Saffron', 'Sage', 'Salt', 'Sumac', 'Tarragon',
        'Thyme', 'Tumeric', 'Vanilla bean', 'Wasabi powder'
    ],
    legums=[]
)

avoided_food = FoodCategory(
    fruit=[
        'Apples', 'Apricots dried', 'Bananas', 'Dates', 'Dried fruits', 'Figs',
        'Fruit-juice concentrates', 'Monk fruit', 'Pears', 'Prunes', 'Raisins'
    ],
    vegetable=[
        'Alfalfa sprouts', 'Artichoke', 'Asparagus', 'Bamboo shoots', 'Bean sprouts',
        'Bok choy', 'Broccoli', 'Brussels sprouts', 'Cabbage', 'Cauliflower',
        'Chicory root', 'Edamame', 'Radish', 'Snow peas', 'Sugar snap peas', 'Tamarind',
        'Tiger root'
    ],
    protein=[
        'Breaded meats', 'processed meats', 'Marinated steak', 'Tofu', 'Soy Products'
    ],
    carbohydrates=[
        'Barley', 'Bran', 'multigrain Bread', 'whole wheat Bread', 'Brown rice',
        'Buckwheat flour', 'Bulgur wheat', 'whole wheat Cereals', 'Farrow', 'multigrain Flour',
        'Millet', 'Oat bran', 'Oatmeal', 'whole wheat Pasta', 'Soba noodles', 'Spelt flour',
        'Tapioca flour'
    ],
    dairy=[
        'Cheese', 'Cream cheese', 'Milk', 'Soy Milk', 'Yogurt'
    ],
    nuts_and_seeds=[
        'Chia seeds', 'Flax seeds'
    ],
    beverages=[
        'Drinks with HFCS', 'Soda'
    ],
    alcohol=[],
    condiment=[
        'Barbeque sauce with HFCS', 'Cooking oils with additives', 'Plum sauce',
        'Relish', 'Sweet and sour sauce'
    ],
    sweets=[
        'Agave', 'Erythritol', 'High-fructose corn syrup', 'Inulin', 'Lactitol',
        'Lactose', 'Mannitol', 'Monk fruit extract', 'Psyllium husk', 'Saccharin',
        'Sorbitol', 'Splenda', 'Stevia', 'Sucralose', 'Xylitol'
    ],
    herbs_and_spices=[],
    legums=[
        'Beans', 'Black beans', 'Butter beans', 'Cannellini beans', 'Chickpea',
        'garbanzo beans', 'Fava beans', 'Hummus', 'Kidney beans', 'Lentils',
        'Lima beans', 'Navy beans', 'Pinto beans', 'Soy products', 'Soybeans',
        'Tempeh', 'Tofu', 'White beans'
    ]
)

food_approval = FoodApproval(approved_food=approved_food, avoided_food=avoided_food)
